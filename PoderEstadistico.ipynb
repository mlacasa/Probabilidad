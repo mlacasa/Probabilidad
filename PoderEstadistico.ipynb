{
  "nbformat": 4,
  "nbformat_minor": 0,
  "metadata": {
    "colab": {
      "provenance": [],
      "authorship_tag": "ABX9TyM0+EGNh7ALR5qwj/bU/Zwp",
      "include_colab_link": true
    },
    "kernelspec": {
      "name": "python3",
      "display_name": "Python 3"
    },
    "language_info": {
      "name": "python"
    }
  },
  "cells": [
    {
      "cell_type": "markdown",
      "metadata": {
        "id": "view-in-github",
        "colab_type": "text"
      },
      "source": [
        "<a href=\"https://colab.research.google.com/github/mlacasa/Probabilidad/blob/main/PoderEstadistico.ipynb\" target=\"_parent\"><img src=\"https://colab.research.google.com/assets/colab-badge.svg\" alt=\"Open In Colab\"/></a>"
      ]
    },
    {
      "cell_type": "markdown",
      "source": [
        "# Poder Estadístico en Tests Paramétricos y No Paramétricos\n",
        "\n",
        "## ¿Qué es el Poder Estadístico?\n",
        "\n",
        "El **poder estadístico** es la probabilidad de que un test estadístico detecte un efecto real cuando realmente existe. En otras palabras, es la capacidad de un test para no cometer un **error tipo II** (no rechazar la hipótesis nula cuando es falsa).\n",
        "\n",
        "El poder estadístico se ve afectado por varios factores:\n",
        "\n",
        "- **Tamaño de la muestra**: A mayor tamaño de muestra, mayor será el poder.\n",
        "- **Tamaño del efecto**: Efectos más grandes son más fáciles de detectar.\n",
        "- **Nivel de significancia (α)**: Un α más alto (por ejemplo, 0.10 en vez de 0.05) puede aumentar el poder, pero a costa de aumentar el riesgo de cometer un error tipo I.\n",
        "- **Variabilidad de los datos**: Menos variabilidad en los datos generalmente aumentará el poder del test.\n",
        "\n",
        "## Tests Paramétricos\n",
        "\n",
        "Los **tests paramétricos** asumen que los datos tienen una distribución específica (por ejemplo, normal). Ejemplos de estos tests incluyen la prueba t de Student y ANOVA.\n",
        "\n",
        "- **Ventajas**:\n",
        "  - Generalmente tienen mayor poder estadístico si se cumplen las condiciones de los supuestos (normalidad, homogeneidad de varianzas).\n",
        "  \n",
        "- **Desventajas**:\n",
        "  - Si los supuestos no se cumplen, el poder del test puede verse reducido, lo que aumenta la posibilidad de cometer un error tipo II.\n",
        "\n",
        "## Tests No Paramétricos\n",
        "\n",
        "Los **tests no paramétricos** no asumen ninguna distribución específica para los datos. Ejemplos incluyen el test de Mann-Whitney y la prueba de Kruskal-Wallis.\n",
        "\n",
        "- **Ventajas**:\n",
        "  - Son más flexibles y pueden aplicarse a datos que no cumplen con los supuestos de normalidad.\n",
        "  - Pueden ser más adecuados para datos ordinales o en escalas que no son intervalos.\n",
        "\n",
        "- **Desventajas**:\n",
        "  - Suelen tener menos poder estadístico en comparación con los tests paramétricos, especialmente si los datos también cumplen con los supuestos de los tests paramétricos. Esto significa que pueden ser menos efectivos para detectar diferencias reales.\n",
        "\n",
        "## Conclusión\n",
        "\n",
        "El poder estadístico es crucial para la interpretación de los resultados de un test. Elegir el test adecuado según la naturaleza de los datos y el contexto del análisis es fundamental para asegurar que se pueda detectar la verdadera relación o diferencia que se investiga.\n",
        "\n",
        "## Ejemplo en Python con libreria Pinguoin"
      ],
      "metadata": {
        "id": "dtLZeNtDX5p7"
      }
    },
    {
      "cell_type": "code",
      "execution_count": 1,
      "metadata": {
        "colab": {
          "base_uri": "https://localhost:8080/"
        },
        "collapsed": true,
        "id": "QHulY5vzXncl",
        "outputId": "fa29b476-0a7c-458b-d28f-3491d5879526"
      },
      "outputs": [
        {
          "output_type": "stream",
          "name": "stdout",
          "text": [
            "Collecting pingouin\n",
            "  Downloading pingouin-0.5.5-py3-none-any.whl.metadata (19 kB)\n",
            "Requirement already satisfied: matplotlib in /usr/local/lib/python3.11/dist-packages (from pingouin) (3.10.0)\n",
            "Requirement already satisfied: numpy in /usr/local/lib/python3.11/dist-packages (from pingouin) (1.26.4)\n",
            "Requirement already satisfied: pandas>=1.5 in /usr/local/lib/python3.11/dist-packages (from pingouin) (2.2.2)\n",
            "Collecting pandas-flavor (from pingouin)\n",
            "  Downloading pandas_flavor-0.6.0-py3-none-any.whl.metadata (6.3 kB)\n",
            "Requirement already satisfied: scikit-learn>=1.2 in /usr/local/lib/python3.11/dist-packages (from pingouin) (1.6.1)\n",
            "Requirement already satisfied: scipy in /usr/local/lib/python3.11/dist-packages (from pingouin) (1.13.1)\n",
            "Requirement already satisfied: seaborn in /usr/local/lib/python3.11/dist-packages (from pingouin) (0.13.2)\n",
            "Requirement already satisfied: statsmodels in /usr/local/lib/python3.11/dist-packages (from pingouin) (0.14.4)\n",
            "Requirement already satisfied: tabulate in /usr/local/lib/python3.11/dist-packages (from pingouin) (0.9.0)\n",
            "Requirement already satisfied: python-dateutil>=2.8.2 in /usr/local/lib/python3.11/dist-packages (from pandas>=1.5->pingouin) (2.8.2)\n",
            "Requirement already satisfied: pytz>=2020.1 in /usr/local/lib/python3.11/dist-packages (from pandas>=1.5->pingouin) (2025.1)\n",
            "Requirement already satisfied: tzdata>=2022.7 in /usr/local/lib/python3.11/dist-packages (from pandas>=1.5->pingouin) (2025.1)\n",
            "Requirement already satisfied: joblib>=1.2.0 in /usr/local/lib/python3.11/dist-packages (from scikit-learn>=1.2->pingouin) (1.4.2)\n",
            "Requirement already satisfied: threadpoolctl>=3.1.0 in /usr/local/lib/python3.11/dist-packages (from scikit-learn>=1.2->pingouin) (3.5.0)\n",
            "Requirement already satisfied: contourpy>=1.0.1 in /usr/local/lib/python3.11/dist-packages (from matplotlib->pingouin) (1.3.1)\n",
            "Requirement already satisfied: cycler>=0.10 in /usr/local/lib/python3.11/dist-packages (from matplotlib->pingouin) (0.12.1)\n",
            "Requirement already satisfied: fonttools>=4.22.0 in /usr/local/lib/python3.11/dist-packages (from matplotlib->pingouin) (4.55.8)\n",
            "Requirement already satisfied: kiwisolver>=1.3.1 in /usr/local/lib/python3.11/dist-packages (from matplotlib->pingouin) (1.4.8)\n",
            "Requirement already satisfied: packaging>=20.0 in /usr/local/lib/python3.11/dist-packages (from matplotlib->pingouin) (24.2)\n",
            "Requirement already satisfied: pillow>=8 in /usr/local/lib/python3.11/dist-packages (from matplotlib->pingouin) (11.1.0)\n",
            "Requirement already satisfied: pyparsing>=2.3.1 in /usr/local/lib/python3.11/dist-packages (from matplotlib->pingouin) (3.2.1)\n",
            "Requirement already satisfied: xarray in /usr/local/lib/python3.11/dist-packages (from pandas-flavor->pingouin) (2025.1.2)\n",
            "Requirement already satisfied: patsy>=0.5.6 in /usr/local/lib/python3.11/dist-packages (from statsmodels->pingouin) (1.0.1)\n",
            "Requirement already satisfied: six>=1.5 in /usr/local/lib/python3.11/dist-packages (from python-dateutil>=2.8.2->pandas>=1.5->pingouin) (1.17.0)\n",
            "Downloading pingouin-0.5.5-py3-none-any.whl (204 kB)\n",
            "\u001b[2K   \u001b[90m━━━━━━━━━━━━━━━━━━━━━━━━━━━━━━━━━━━━━━━━\u001b[0m \u001b[32m204.4/204.4 kB\u001b[0m \u001b[31m3.6 MB/s\u001b[0m eta \u001b[36m0:00:00\u001b[0m\n",
            "\u001b[?25hDownloading pandas_flavor-0.6.0-py3-none-any.whl (7.2 kB)\n",
            "Installing collected packages: pandas-flavor, pingouin\n",
            "Successfully installed pandas-flavor-0.6.0 pingouin-0.5.5\n"
          ]
        }
      ],
      "source": [
        "!pip install pingouin"
      ]
    },
    {
      "cell_type": "code",
      "source": [
        "import numpy as np\n",
        "import pandas as pd\n",
        "import seaborn as sns\n",
        "import matplotlib.pyplot as plt\n",
        "import pingouin as pg\n",
        "\n",
        "# Fijar la semilla para la reproducibilidad\n",
        "np.random.seed(42)\n",
        "\n",
        "# Generar dos muestras de datos\n",
        "# Grupo de control (n=100)\n",
        "control = np.random.normal(loc=120, scale=10, size=100)  # Media = 120, Desviación estándar = 10\n",
        "# Grupo de tratamiento (n=100)\n",
        "tratamiento = np.random.normal(loc=110, scale=10, size=100)  # Media = 110, Desviación estándar = 10\n",
        "\n",
        "# Crear un DataFrame\n",
        "data = pd.DataFrame({\n",
        "    'Grupo': ['Control'] * 100 + ['Tratamiento'] * 100,\n",
        "    'Presion_Arterial': np.concatenate([control, tratamiento])\n",
        "})\n",
        "\n",
        "# Graficar histogramas\n",
        "plt.figure(figsize=(12, 6))\n",
        "sns.histplot(data=data, x='Presion_Arterial', hue='Grupo', element='step', stat='density', bins=20, common_norm=False)\n",
        "plt.title('Histogramas de la Presión Arterial')\n",
        "plt.xlabel('Presión Arterial')\n",
        "plt.ylabel('Densidad')\n",
        "plt.legend(title='Grupo')\n",
        "plt.show()"
      ],
      "metadata": {
        "colab": {
          "base_uri": "https://localhost:8080/",
          "height": 600
        },
        "id": "J4fnNobdZRr-",
        "outputId": "ec115c41-d906-48ef-9517-4b2ba8b0efee"
      },
      "execution_count": 6,
      "outputs": [
        {
          "output_type": "stream",
          "name": "stderr",
          "text": [
            "<ipython-input-6-ccaffbfd34d9>:28: UserWarning: No artists with labels found to put in legend.  Note that artists whose label start with an underscore are ignored when legend() is called with no argument.\n",
            "  plt.legend(title='Grupo')\n"
          ]
        },
        {
          "output_type": "display_data",
          "data": {
            "text/plain": [
              "<Figure size 1200x600 with 1 Axes>"
            ],
            "image/png": "[encoded data removed]"
          },
          "metadata": {}
        }
      ]
    },
    {
      "cell_type": "markdown",
      "source": [
        "## VERIFICAR NORMALIDAD Y HOMOCEDASTICIDAD"
      ],
      "metadata": {
        "id": "3dQnZ4-gZoDr"
      }
    },
    {
      "cell_type": "code",
      "source": [
        "# Verificar normalidad con la prueba de Shapiro-Wilk\n",
        "normalidad_control = pg.normality(control)\n",
        "normalidad_tratamiento = pg.normality(tratamiento)\n",
        "\n",
        "print(\"Resultados de la normalidad:\")\n",
        "print(\"Grupo Control:\\n\", normalidad_control)\n",
        "print(\"Grupo Tratamiento:\\n\", normalidad_tratamiento)\n",
        "\n",
        "# Verificar homocedasticidad con la prueba de Levene\n",
        "homocedasticidad = pg.homoscedasticity(data, dv='Presion_Arterial', group='Grupo')\n",
        "print(\"\\nResultados de homocedasticidad:\\n\", homocedasticidad)"
      ],
      "metadata": {
        "colab": {
          "base_uri": "https://localhost:8080/"
        },
        "id": "AKJoaF6uZmvO",
        "outputId": "a5f0c07f-be15-453b-a9ae-b7ff894dbaa0"
      },
      "execution_count": 7,
      "outputs": [
        {
          "output_type": "stream",
          "name": "stdout",
          "text": [
            "Resultados de la normalidad:\n",
            "Grupo Control:\n",
            "           W      pval  normal\n",
            "0  0.989883  0.655168    True\n",
            "Grupo Tratamiento:\n",
            "           W      pval  normal\n",
            "0  0.977534  0.085256    True\n",
            "\n",
            "Resultados de homocedasticidad:\n",
            "                W      pval  equal_var\n",
            "levene  0.180383  0.671505       True\n"
          ]
        }
      ]
    },
    {
      "cell_type": "markdown",
      "source": [
        "## LANZAMOS T-STUDENT"
      ],
      "metadata": {
        "id": "uf_g504FZsI-"
      }
    },
    {
      "cell_type": "code",
      "source": [
        "# Realizar el t-test\n",
        "t_test = pg.ttest(x=control, y=tratamiento, paired=False)\n",
        "\n",
        "# Mostrar resultados del t-test\n",
        "print(\"\\nResultados del T-Test:\")\n",
        "print(t_test)"
      ],
      "metadata": {
        "colab": {
          "base_uri": "https://localhost:8080/"
        },
        "id": "-lmw1NW_ZvP7",
        "outputId": "2e33b099-0840-4bbd-e13a-5b8e55b50c04"
      },
      "execution_count": 11,
      "outputs": [
        {
          "output_type": "stream",
          "name": "stdout",
          "text": [
            "\n",
            "Resultados del T-Test:\n",
            "               T  dof alternative         p-val          CI95%   cohen-d  \\\n",
            "T-test  6.635596  198   two-sided  3.023031e-10  [6.14, 11.34]  0.938415   \n",
            "\n",
            "            BF10     power  \n",
            "T-test  2.81e+07  0.999998  \n"
          ]
        }
      ]
    },
    {
      "cell_type": "markdown",
      "source": [
        "# Diferencias entre Cohen's d y Potencia Estadística en Pingouin\n",
        "\n",
        "## Cohen's d\n",
        "\n",
        "- **Definición**: Cohen's d es una medida del tamaño del efecto que cuantifica la diferencia entre dos grupos en términos de desviaciones estándar. Se utiliza para entender la magnitud de la diferencia observada positiva o negativa entre las medias de dos grupos.\n",
        "\n",
        "- **Cálculo**: Se calcula utilizando la siguiente fórmula:\n",
        "\n",
        "  $$\n",
        "  d = \\frac{\\bar{X}_1 - \\bar{X}_2}{s}\n",
        "  $$\n",
        "\n",
        "  donde $\\bar{X}_1$ y $\\bar{X}_2$ son las medias de los dos grupos, y $s$ es la desviación estándar combinada de ambos grupos.\n",
        "\n",
        "- **Interpretación**:\n",
        "  - Un $d$ pequeño (0.2) indica un tamaño de efecto pequeño.\n",
        "  - Un $d$ moderado (0.5) sugiere un tamaño de efecto mediano.\n",
        "  - Un $d$ grande (0.8 o más) indica un tamaño de efecto grande, lo que significa que la diferencia entre los grupos es considerable.\n",
        "\n",
        "- **Uso en Pingouin**: La función `pg.compute_effsize()` en Pingouin permite calcular Cohen's d para diferentes tipos de comparaciones, como pruebas de t y ANOVA.\n",
        "\n",
        "## Potencia (Power)\n",
        "\n",
        "- **Definición**: La potencia estadística es la probabilidad de que un test estadístico detecte un efecto real cuando realmente existe. Es una medida de la capacidad de una prueba para evitar un error tipo II (no detectar una diferencia cuando sí la hay).\n",
        "\n",
        "- **Cálculo**: La potencia depende de varios factores, incluyendo:\n",
        "  - **Tamaño del efecto**: Un tamaño del efecto mayor generalmente aumenta la potencia.\n",
        "  - **Tamaño de la muestra**: Un mayor tamaño de muestra también aumenta la potencia.\n",
        "  - **Nivel de significancia ($\\alpha$)**: Un nivel de significancia más alto puede aumentar la potencia, pero a costa de aumentar el riesgo de un error tipo I (rechazar incorrectamente la hipótesis nula).\n",
        "\n",
        "- **Interpretación**:\n",
        "  - Una potencia de 0.8 o superior se considera adecuada para la mayoría de las investigaciones, ya que indica que hay un 80% de probabilidad de detectar un efecto si realmente se encuentra.\n",
        "  - Potencias por debajo de 0.5 indican un riesgo significativo de no detectar un efecto, mientras que potencias cerca de 0.7 sugieren que el poder está en un rango aceptable pero no ideal.\n",
        "\n",
        "- **Uso en Pingouin**: La función `pg.power_ttest()` permite calcular la potencia para análisis específicos de pruebas t basándose en parámetros como el tamaño del efecto, el tamaño de la muestra y el nivel de significancia.\n",
        "\n",
        "## Resumen de Diferencias\n",
        "\n",
        "| **Criterio**         | **Cohen's d**                              | **Potencia (Power)**                             |\n",
        "|----------------------|--------------------------------------------|--------------------------------------------------|\n",
        "| **Propósito**        | Medir el tamaño del efecto de una diferencia entre grupos | Evaluar si se detectará un efecto real en la prueba estadística |\n",
        "| **Interpretación**   | Indica la magnitud de la diferencia       | Indica la probabilidad de detectar una diferencia significativa |\n",
        "| **Cálculo**          | Basado en medias y desviaciones estándar   | Basado en tamaño del efecto, tamaño de muestra y nivel de significancia |\n",
        "| **Uso común**        | Para evaluar resultados de experimentos    | Para diseñar estudios y garantizar suficiente poder estadístico |\n",
        "\n",
        "Ambos conceptos son fundamentales en análisis estadísticos y son complementarios; Cohen's d te dice cuán fuerte es una relación, mientras que la potencia te dice qué tan probable es que detectes efectivamente esa relación en un estudio.\n",
        "\n",
        "# EJEMPLO CON MENOR VALOR DE POTENCIA\n",
        "\n"
      ],
      "metadata": {
        "id": "frDGpvhTbKYr"
      }
    },
    {
      "cell_type": "code",
      "source": [
        "# Definimos el tamaño de la muestra\n",
        "n = 60  # Tamaño de la muestra por grupo\n",
        "\n",
        "# Generar dos muestras de datos\n",
        "# Grupo de control (n=60)\n",
        "control = np.random.normal(loc=98, scale=15, size=n)  # Media = 100, Desviación estándar = 15\n",
        "# Grupo de tratamiento (n=60)\n",
        "tratamiento = np.random.normal(loc=105, scale=15, size=n)  # Media = 105, Desviación estándar = 15\n",
        "\n",
        "# Crear un DataFrame\n",
        "data = pd.DataFrame({\n",
        "    'Grupo': ['Control'] * n + ['Tratamiento'] * n,\n",
        "    'Valor': np.concatenate([control, tratamiento])\n",
        "})\n",
        "\n",
        "# Graficar histogramas\n",
        "plt.figure(figsize=(12, 6))\n",
        "sns.histplot(data=data, x='Valor', hue='Grupo', element='step', stat='density', common_norm=False)\n",
        "plt.title('Histogramas de los Valores de los Grupos')\n",
        "plt.xlabel('Valores')\n",
        "plt.ylabel('Densidad')\n",
        "plt.legend(title='Grupo')\n",
        "plt.show()"
      ],
      "metadata": {
        "colab": {
          "base_uri": "https://localhost:8080/",
          "height": 599
        },
        "id": "IE1n9gx8bg9B",
        "outputId": "4f892b23-36b7-4c3e-fc85-d35f68c1b450"
      },
      "execution_count": 15,
      "outputs": [
        {
          "output_type": "stream",
          "name": "stderr",
          "text": [
            "<ipython-input-15-1a836fc8186e>:22: UserWarning: No artists with labels found to put in legend.  Note that artists whose label start with an underscore are ignored when legend() is called with no argument.\n",
            "  plt.legend(title='Grupo')\n"
          ]
        },
        {
          "output_type": "display_data",
          "data": {
            "text/plain": [
              "<Figure size 1200x600 with 1 Axes>"
            ],
            "image/png": "[encoded data removed]"
          },
          "metadata": {}
        }
      ]
    },
    {
      "cell_type": "markdown",
      "source": [
        "## VERIFICAMOS NORMALIDAD Y HOMOCEDASTICIDAD"
      ],
      "metadata": {
        "id": "oOuERVz5bsfM"
      }
    },
    {
      "cell_type": "code",
      "source": [
        "# Verificar normalidad con la prueba de Shapiro-Wilk\n",
        "normalidad_control = pg.normality(control)\n",
        "normalidad_tratamiento = pg.normality(tratamiento)\n",
        "\n",
        "print(\"Resultados de la normalidad:\")\n",
        "print(\"Grupo Control:\\n\", normalidad_control)\n",
        "print(\"Grupo Tratamiento:\\n\", normalidad_tratamiento)\n",
        "\n",
        "# Verificar homocedasticidad con la prueba de Levene\n",
        "homocedasticidad = pg.homoscedasticity(data, dv='Valor', group='Grupo')\n",
        "print(\"\\nResultados de homocedasticidad:\\n\", homocedasticidad)"
      ],
      "metadata": {
        "colab": {
          "base_uri": "https://localhost:8080/"
        },
        "id": "HBSMv-5VbvZa",
        "outputId": "6815cba1-dc5a-4d52-de05-f9b9d8caaa8a"
      },
      "execution_count": 16,
      "outputs": [
        {
          "output_type": "stream",
          "name": "stdout",
          "text": [
            "Resultados de la normalidad:\n",
            "Grupo Control:\n",
            "         W      pval  normal\n",
            "0  0.9684  0.121795    True\n",
            "Grupo Tratamiento:\n",
            "           W     pval  normal\n",
            "0  0.974698  0.24604    True\n",
            "\n",
            "Resultados de homocedasticidad:\n",
            "                W      pval  equal_var\n",
            "levene  5.728729  0.018266      False\n"
          ]
        }
      ]
    },
    {
      "cell_type": "markdown",
      "source": [
        "# CUMPLE CRITERIOS PARA T-STUDENT"
      ],
      "metadata": {
        "id": "V5yoIG6ebzFI"
      }
    },
    {
      "cell_type": "code",
      "source": [
        "# Realizar el t-test\n",
        "t_test = pg.ttest(x=control, y=tratamiento, paired=False)\n",
        "\n",
        "# Mostrar resultados del t-test\n",
        "print(\"\\nResultados del T-Test:\")\n",
        "print(t_test)"
      ],
      "metadata": {
        "colab": {
          "base_uri": "https://localhost:8080/"
        },
        "id": "-MOBoDlEb185",
        "outputId": "3050c8d9-ba59-4024-9c89-c6c27e0df0a3"
      },
      "execution_count": 17,
      "outputs": [
        {
          "output_type": "stream",
          "name": "stdout",
          "text": [
            "\n",
            "Resultados del T-Test:\n",
            "              T  dof alternative     p-val           CI95%   cohen-d   BF10  \\\n",
            "T-test -2.20256  118   two-sided  0.029569  [-11.36, -0.6]  0.402131  1.698   \n",
            "\n",
            "          power  \n",
            "T-test  0.58889  \n"
          ]
        }
      ]
    },
    {
      "cell_type": "markdown",
      "source": [
        "## OBSERVAR LOS RESULTADOS\n",
        "\n",
        "ESpecialmente los valores:\n",
        "- p-val\n",
        "- cohen-d\n",
        "- CI al 95%\n",
        "- power\n",
        "\n",
        "# AHORA EJEMPLO CON TEST NO PARAMÉTRICO"
      ],
      "metadata": {
        "id": "m1bSeyAzcJUR"
      }
    },
    {
      "cell_type": "code",
      "source": [
        "# Definimos el tamaño de la muestra\n",
        "n = 50  # Tamaño de la muestra por grupo\n",
        "\n",
        "# Generar datos que no cumplen normalidad (distribución exponencial)\n",
        "# Grupo de control\n",
        "control = np.random.exponential(scale=1.0, size=n)  # Media > 1\n",
        "# Grupo de tratamiento\n",
        "tratamiento = np.random.exponential(scale=1.5, size=n)  # Media > 1.5\n",
        "\n",
        "# Crear un DataFrame\n",
        "data = pd.DataFrame({\n",
        "    'Grupo': ['Control'] * n + ['Tratamiento'] * n,\n",
        "    'Valor': np.concatenate([control, tratamiento])\n",
        "})\n",
        "\n",
        "# Graficar histogramas\n",
        "plt.figure(figsize=(12, 6))\n",
        "sns.histplot(data=data, x='Valor', hue='Grupo', element='step', stat='density', common_norm=False, bins=20)\n",
        "plt.title('Histogramas de los Valores de los Grupos (No Normalidad)')\n",
        "plt.xlabel('Valores')\n",
        "plt.ylabel('Densidad')\n",
        "plt.legend(title='Grupo', labels=['Control', 'Tratamiento'])\n",
        "plt.show()"
      ],
      "metadata": {
        "colab": {
          "base_uri": "https://localhost:8080/",
          "height": 564
        },
        "id": "ewNVhZYbclpJ",
        "outputId": "a84e3773-4664-48d8-8c06-1fd58d3fe868"
      },
      "execution_count": 19,
      "outputs": [
        {
          "output_type": "display_data",
          "data": {
            "text/plain": [
              "<Figure size 1200x600 with 1 Axes>"
            ],
            "image/png": "[encoded data removed]"
          },
          "metadata": {}
        }
      ]
    },
    {
      "cell_type": "markdown",
      "source": [
        "## CUMPLE NORMALIDAD?\n",
        "\n",
        "Observar las diferencias entre los histogramas"
      ],
      "metadata": {
        "id": "cHcqKOHuc2_T"
      }
    },
    {
      "cell_type": "code",
      "source": [
        "# Verificar normalidad con la prueba de D'Agostino\n",
        "from scipy.stats import normaltest\n",
        "normalidad_control = normaltest(control)\n",
        "normalidad_tratamiento = normaltest(tratamiento)\n",
        "\n",
        "print(\"Resultados de la prueba de normalidad:\")\n",
        "print(f\"Grupo Control: Estadístico={normalidad_control.statistic:.3f}, p-value={normalidad_control.pvalue:.3f}\")\n",
        "print(f\"Grupo Tratamiento: Estadístico={normalidad_tratamiento.statistic:.3f}, p-value={normalidad_tratamiento.pvalue:.3f}\")"
      ],
      "metadata": {
        "colab": {
          "base_uri": "https://localhost:8080/"
        },
        "id": "gpN7VX4Ic9lm",
        "outputId": "402abe96-f55a-44e7-9ee9-61ca3c5bbfe1"
      },
      "execution_count": 21,
      "outputs": [
        {
          "output_type": "stream",
          "name": "stdout",
          "text": [
            "Resultados de la prueba de normalidad:\n",
            "Grupo Control: Estadístico=28.366, p-value=0.000\n",
            "Grupo Tratamiento: Estadístico=4.596, p-value=0.100\n"
          ]
        }
      ]
    },
    {
      "cell_type": "markdown",
      "source": [
        "## SE REQUIERE TEST NO PARAMÉTRICO"
      ],
      "metadata": {
        "id": "fUD-k1Q0dKvg"
      }
    },
    {
      "cell_type": "code",
      "source": [
        "# Realizar el test de Mann-Whitney\n",
        "mann_whitney_test = mannwhitneyu(control, tratamiento, alternative='two-sided')\n",
        "\n",
        "# Mostrar resultados del test de Mann-Whitney\n",
        "print(\"\\nResultados del Test de Mann-Whitney U:\")\n",
        "print(f\"Estadístico U: {mann_whitney_test.statistic}, p-value: {mann_whitney_test.pvalue}\")\n",
        "\n",
        "# Calcular el tamaño del efecto (r) para Mann-Whitney\n",
        "n1 = len(control)\n",
        "n2 = len(tratamiento)\n",
        "r = mann_whitney_test.statistic / (n1 * n2)  # Cálculo del tamaño del efecto r\n",
        "\n",
        "# Estimar potencia usando aproximación\n",
        "# Esta es una aproximación muy general y no específicamente para Mann-Whitney\n",
        "power = pg.power_ttest(d=r, n=min(n1, n2), alpha=0.05, alternative='two-sided')\n",
        "print(f'\\nLa potencia estadística aproximada basada en el tamaño del efecto es: {power:.4f}')"
      ],
      "metadata": {
        "colab": {
          "base_uri": "https://localhost:8080/"
        },
        "id": "lcfr6oYpdOEk",
        "outputId": "f33172e0-5ae7-4e99-9d8c-057ca7920edb"
      },
      "execution_count": 31,
      "outputs": [
        {
          "output_type": "stream",
          "name": "stdout",
          "text": [
            "\n",
            "Resultados del Test de Mann-Whitney U:\n",
            "Estadístico U: 857.0, p-value: 0.0068135084369994195\n",
            "\n",
            "La potencia estadística aproximada basada en el tamaño del efecto es: 0.3965\n"
          ]
        }
      ]
    },
    {
      "cell_type": "markdown",
      "source": [
        "## Características Intrínsecas que Afectan la Potencia\n",
        "\n",
        "1. **Tamaño del efecto**:\n",
        "   - Un mayor tamaño del efecto (la diferencia real entre las medias de las dos poblaciones) incrementa la potencia. Un test que intenta detectar una diferencia pequeña entre dos grupos tiene menos posibilidades de éxito que uno que busca diferencias grandes. Esta relación se mantiene independientemente de que el test sea paramétrico o no paramétrico.\n",
        "   - Por ejemplo, si se quiere comparar dos tratamientos, un tratamiento que reduzca significativamente los síntomas tendrá un efecto más grande y será más fácil de detectar, aumentando así la potencia.\n",
        "\n",
        "2. **Tamaño de la muestra**:\n",
        "   - A medida que aumenta el tamaño de la muestra, la variabilidad de las estimaciones disminuye, lo que contribuye a una mayor potencia. Esto es cierto para ambos tipos de pruebas. Con más datos, las estimaciones de los parámetros poblacionales se vuelven más precisas, y la capacidad de detectar diferencias reales también aumenta.\n",
        "\n",
        "3. **Variabilidad de los datos**:\n",
        "   - La cantidad de varianza dentro de los grupos también afecta la potencia. Si una muestra tiene poca variabilidad, es más fácil detectar diferencias. En contraste, si hay una gran variabilidad, puede dificultar la detección de efectos, independientemente de si el test es paramétrico o no.\n",
        "\n",
        "4. **Nivel de significancia ($\\alpha$)**:\n",
        "   - Elevar el nivel de significancia (por ejemplo, usar $\\alpha = 0.10$ en lugar de $\\alpha = 0.05$) tiende a aumentar la potencia, pero también aumenta el riesgo de cometer un error tipo I. Este ajuste es una consideración en ambas pruebas.\n",
        "\n",
        "## Ejemplo Comparativo\n",
        "\n",
        "Consideremos dos escenarios:\n",
        "\n",
        "- **Test Paramétrico**: Usamos una prueba t de Student para comparar la media de dos grupos que cumplen los supuestos de normalidad.\n",
        "- **Test No Paramétrico**: Usamos la prueba de Mann-Whitney U para comparar los mismos dos grupos, pero sin asumir normalidad.\n",
        "\n",
        "En ambos casos, si el tamaño del efecto es significativo (por ejemplo, el tratamiento tiene un impacto fuerte) y tenemos un tamaño de muestra suficientemente grande con baja variabilidad, la potencia será alta para ambas pruebas. Por otro lado, si las muestras son pequeñas y los efectos son sutiles, la potencia será baja en ambos casos.\n",
        "\n",
        "## Conclusión\n",
        "\n",
        "La potencia de un test estadístico es influenciada por factores como el tamaño del efecto, el tamaño de la muestra, la variabilidad de los datos y el nivel de significancia. Estos factores son independientes de si se utiliza un test paramétrico o no paramétrico. Por lo tanto, entender las características intrínsecas de las muestras y el contexto del estudio es crucial para diseñar experimentos con suficiente potencia para detectar efectos importantes.\n",
        "\n",
        "\n",
        "## PARA UNA MEJOR COMPRENSIÓN\n",
        "\n",
        "Modifica el código para ir viendo como cambian los resultados.\n",
        "\n",
        "MODIFICAR\n",
        "\n",
        "- modificar la $n$"
      ],
      "metadata": {
        "id": "laOP0c6agokh"
      }
    }
  ]
}