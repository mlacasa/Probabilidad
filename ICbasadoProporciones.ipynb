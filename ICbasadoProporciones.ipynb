{
  "nbformat": 4,
  "nbformat_minor": 0,
  "metadata": {
    "colab": {
      "provenance": [],
      "authorship_tag": "ABX9TyOtSeexV6Oyq2rMlVfUtlC4",
      "include_colab_link": true
    },
    "kernelspec": {
      "name": "python3",
      "display_name": "Python 3"
    },
    "language_info": {
      "name": "python"
    }
  },
  "cells": [
    {
      "cell_type": "markdown",
      "metadata": {
        "id": "view-in-github",
        "colab_type": "text"
      },
      "source": [
        "<a href=\"https://colab.research.google.com/github/mlacasa/Probabilidad/blob/main/ICbasadoProporciones.ipynb\" target=\"_parent\"><img src=\"https://colab.research.google.com/assets/colab-badge.svg\" alt=\"Open In Colab\"/></a>"
      ]
    },
    {
      "cell_type": "code",
      "execution_count": 1,
      "metadata": {
        "colab": {
          "base_uri": "https://localhost:8080/"
        },
        "id": "fMYJadnVFWUl",
        "outputId": "a5b36d3b-9269-423b-8688-2cff0bc1212e"
      },
      "outputs": [
        {
          "output_type": "stream",
          "name": "stdout",
          "text": [
            "Proporción muestral (p̂): 0.60\n",
            "Error estándar: 0.0346\n",
            "Valor crítico (z): 1.96\n",
            "Margen de error: 0.0679\n",
            "Intervalo de confianza del 95%: (53.21%, 66.79%)\n",
            "\n",
            "Interpretación:\n",
            "Al afirmar que el intervalo de confianza para la proporción de personas que consumen frutas y verduras diariamente es de 53.21% a 66.79%, estamos diciendo que hay un 95% de confianza de que la verdadera proporción de la población se encuentra dentro de este rango. Esto sugiere que la mayoría de la población en la comunidad tiene hábitos alimenticios saludables.\n"
          ]
        }
      ],
      "source": [
        "import numpy as np\n",
        "import scipy.stats as stats\n",
        "\n",
        "# Datos de entrada\n",
        "n = 200  # Tamaño de la muestra\n",
        "x = 120  # Número de personas que consumen frutas y verduras diariamente\n",
        "\n",
        "# Proporción muestral\n",
        "p_hat = x / n\n",
        "\n",
        "# Error estándar\n",
        "standard_error = np.sqrt((p_hat * (1 - p_hat)) / n)\n",
        "\n",
        "# Valor crítico para un nivel de confianza del 95%\n",
        "z = stats.norm.ppf(0.975)  # z para 95% de confianza\n",
        "\n",
        "# Margen de error\n",
        "margin_of_error = z * standard_error\n",
        "\n",
        "# Intervalo de confianza\n",
        "lower_bound = p_hat - margin_of_error\n",
        "upper_bound = p_hat + margin_of_error\n",
        "\n",
        "# Formateo del resultado\n",
        "lower_bound_percentage = lower_bound * 100\n",
        "upper_bound_percentage = upper_bound * 100\n",
        "\n",
        "# Resultados\n",
        "print(f\"Proporción muestral (p̂): {p_hat:.2f}\")\n",
        "print(f\"Error estándar: {standard_error:.4f}\")\n",
        "print(f\"Valor crítico (z): {z:.2f}\")\n",
        "print(f\"Margen de error: {margin_of_error:.4f}\")\n",
        "print(f\"Intervalo de confianza del 95%: ({lower_bound_percentage:.2f}%, {upper_bound_percentage:.2f}%)\")\n",
        "\n",
        "# Interpretación\n",
        "print(\"\\nInterpretación:\")\n",
        "print(\"Al afirmar que el intervalo de confianza para la proporción de personas que consumen frutas y verduras diariamente es de \"\n",
        "      f\"{lower_bound_percentage:.2f}% a {upper_bound_percentage:.2f}%, estamos diciendo que hay un 95% de confianza de que la \"\n",
        "      \"verdadera proporción de la población se encuentra dentro de este rango. Esto sugiere que la mayoría de la población en \"\n",
        "      \"la comunidad tiene hábitos alimenticios saludables.\")"
      ]
    }
  ]
}