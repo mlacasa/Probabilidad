{
  "nbformat": 4,
  "nbformat_minor": 0,
  "metadata": {
    "colab": {
      "provenance": [],
      "authorship_tag": "ABX9TyNMDr0p5xHR6LonPP8QbyMC",
      "include_colab_link": true
    },
    "kernelspec": {
      "name": "python3",
      "display_name": "Python 3"
    },
    "language_info": {
      "name": "python"
    }
  },
  "cells": [
    {
      "cell_type": "markdown",
      "metadata": {
        "id": "view-in-github",
        "colab_type": "text"
      },
      "source": [
        "<a href=\"https://colab.research.google.com/github/mlacasa/Probabilidad/blob/main/probabilidad_1.ipynb\" target=\"_parent\"><img src=\"https://colab.research.google.com/assets/colab-badge.svg\" alt=\"Open In Colab\"/></a>"
      ]
    },
    {
      "cell_type": "markdown",
      "source": [
        "La probabilidad condicionada de un evento A dado un evento B se denota como P(A|B) y se calcula usando la fórmula:\n",
        "\n",
        "$ P(A|B) = \\frac{P(A \\cap B)}{P(B)} $\n",
        "\n",
        "Si conocemos la intersección de A y B y la probabilidad de B, podemos encontrar P(A|B).\n",
        "\n",
        "La probabilidad total se utiliza para encontrar la probabilidad de un evento A basado en un conjunto de eventos $(B_1, B_2, \\ldots, B_n)$ que cubren todo el espacio muestral. La fórmula es:\n",
        "\n",
        "$ P(A) = \\sum_{i} P(A|B_i) \\cdot P(B_i) $"
      ],
      "metadata": {
        "id": "p0FWAXZ5Bj-N"
      }
    },
    {
      "cell_type": "code",
      "source": [
        "import numpy as np\n",
        "\n",
        "# Definimos nuestras probabilidades\n",
        "P_B = 0.5  # Probabilidad de B\n",
        "P_A_inter_B = 0.2  # Probabilidad de la intersección de A y B, P(A ∩ B)\n",
        "\n",
        "# Probabilidad Condicionada\n",
        "P_A_given_B = P_A_inter_B / P_B\n",
        "print(f\"Probabilidad Condicionada P(A|B): {P_A_given_B}\")\n",
        "\n",
        "# Supongamos que tenemos eventos B1 y B2 que cubren todo el espacio muestral\n",
        "P_B1 = 0.3\n",
        "P_B2 = 0.7\n",
        "\n",
        "# Probabilidades condicionales\n",
        "P_A_given_B1 = 0.4\n",
        "P_A_given_B2 = 0.6\n",
        "\n",
        "# Probabilidad Total\n",
        "P_A = P_A_given_B1 * P_B1 + P_A_given_B2 * P_B2\n",
        "print(f\"Probabilidad Total P(A): {P_A}\")\n",
        "\n",
        "\n"
      ],
      "metadata": {
        "colab": {
          "base_uri": "https://localhost:8080/"
        },
        "id": "3n0jCpUrByst",
        "outputId": "8cc2d6f4-b284-4384-f34b-1af2374e7c6c"
      },
      "execution_count": null,
      "outputs": [
        {
          "output_type": "stream",
          "name": "stdout",
          "text": [
            "Probabilidad Condicionada P(A|B): 0.4\n",
            "Probabilidad Total P(A): 0.54\n"
          ]
        }
      ]
    },
    {
      "cell_type": "markdown",
      "source": [
        "##Ejemplo: Diagnóstico Médico\n",
        "Supongamos que queremos calcular la probabilidad total de que una persona tenga síntomas de una enfermedad en función de dos condiciones diferentes: tener la enfermedad y no tenerla.\n",
        "\n",
        "**Paso 1: Definir el Problema**\\\n",
        "Imaginemos los siguientes datos:\n",
        "\n",
        "La probabilidad de que una persona tenga la enfermedad es 0.01 (P(E)).\\\n",
        "La probabilidad de que una persona no tenga la enfermedad es 0.99 (P(¬E)).\\\n",
        "La probabilidad de tener síntomas dado que se tiene la enfermedad es 0.9 (P(S|E)).\\\n",
        "La probabilidad de tener síntomas dado que no se tiene la enfermedad es 0.05 (P(S|¬E)).\\\n",
        "Queremos calcular la probabilidad total de que una persona tenga síntomas (P(S)).\n",
        "\n",
        "**Paso 2: Ejecutamos el siguiente código**"
      ],
      "metadata": {
        "id": "87WB9vjOCJv9"
      }
    },
    {
      "cell_type": "code",
      "source": [
        "# Definir las probabilidades\n",
        "P_E = 0.01  # Probabilidad de tener la enfermedad\n",
        "P_not_E = 0.99  # Probabilidad de no tener la enfermedad\n",
        "P_S_given_E = 0.9  # Probabilidad de tener síntomas dado que se tiene la enfermedad\n",
        "P_S_given_not_E = 0.05  # Probabilidad de tener síntomas dado que no se tiene la enfermedad\n",
        "\n",
        "# Calcular la probabilidad total de tener síntomas\n",
        "P_S = P_S_given_E * P_E + P_S_given_not_E * P_not_E\n",
        "print(f\"Probabilidad Total de tener síntomas, P(S): {P_S}\")\n"
      ],
      "metadata": {
        "colab": {
          "base_uri": "https://localhost:8080/"
        },
        "id": "zqJOQj_lCZzB",
        "outputId": "50d2edad-cd5d-4fcb-e9c8-802f702c2b92"
      },
      "execution_count": null,
      "outputs": [
        {
          "output_type": "stream",
          "name": "stdout",
          "text": [
            "Probabilidad Total de tener síntomas, P(S): 0.0585\n"
          ]
        }
      ]
    },
    {
      "cell_type": "markdown",
      "source": [
        "**Interpretación de Resultados**\\\n",
        "El resultado de la impresión dará la probabilidad total de que una persona tenga síntomas. Esto se calcula utilizando la fórmula de la probabilidad total:\n",
        "\n",
        "$ P(S) = P(S|E) \\cdot P(E) + P(S|¬E) \\cdot P(¬E) $\n",
        "\n",
        "**Análisis y Modificación**\\\n",
        "Puedes modificar los valores de las probabilidades para ver cómo afectan el resultado. Por ejemplo:\n",
        "\n",
        "Cambia la tasa de enfermedad (P(E)) y observa cómo cambia P(S).\\\n",
        "Ajusta las probabilidades de síntomas en ambos escenarios (P(S|E) y P(S|¬E)).\\\n",
        "Este ejercicio ilustra cómo combinar diferentes eventos excluyentes para calcular una probabilidad total, un concepto esencial en estadística y teoría de la probabilidad.\n",
        "\n",
        "Experimenta con distintas condiciones y observa sus efectos en la probabilidad total."
      ],
      "metadata": {
        "id": "nn8wA_24Ch4R"
      }
    }
  ]
}