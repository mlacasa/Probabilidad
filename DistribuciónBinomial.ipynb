{
  "nbformat": 4,
  "nbformat_minor": 0,
  "metadata": {
    "colab": {
      "provenance": [],
      "authorship_tag": "ABX9TyPyW6xAeU+6EEt1FE1IXh3M",
      "include_colab_link": true
    },
    "kernelspec": {
      "name": "python3",
      "display_name": "Python 3"
    },
    "language_info": {
      "name": "python"
    }
  },
  "cells": [
    {
      "cell_type": "markdown",
      "metadata": {
        "id": "view-in-github",
        "colab_type": "text"
      },
      "source": [
        "<a href=\"https://colab.research.google.com/github/mlacasa/Probabilidad/blob/main/Distribuci%C3%B3nBinomial.ipynb\" target=\"_parent\"><img src=\"https://colab.research.google.com/assets/colab-badge.svg\" alt=\"Open In Colab\"/></a>"
      ]
    },
    {
      "cell_type": "markdown",
      "source": [
        "# **Introducción a la Distribución Binomial**\n",
        "La distribución binomial es una distribución de probabilidad discreta que describe el número de éxitos en una secuencia de ( n ) ensayos de Bernoulli independientes, donde cada ensayo tiene la misma probabilidad de éxito ( p ).\n",
        "\n",
        "Parámetros de la Distribución Binomial\\\n",
        "n: Número de ensayos.\\\n",
        "p: Probabilidad de éxito en cada ensayo.\\\n",
        "k: Número de éxitos (variable aleatoria).\\\n",
        "Fórmula de la Distribución Binomial\\\n",
        "La probabilidad de obtener exactamente ( k ) éxitos en ( n ) ensayos es calculada por:\n",
        "\n",
        "$ P(X = k) = \\binom{n}{k} \\cdot p^k \\cdot (1-p)^{n-k} $\n",
        "\n",
        "**Código en Python**\n",
        "\n",
        "A continuación, encontrará un ejemplo de Python que muestra cómo calcular y graficar la distribución binomial usando numpy y matplotlib."
      ],
      "metadata": {
        "id": "C-pXnPf2apdy"
      }
    },
    {
      "cell_type": "code",
      "source": [
        "# Importar librerías necesarias\n",
        "import numpy as np\n",
        "import matplotlib.pyplot as plt\n",
        "from scipy.stats import binom\n",
        "\n",
        "# Definir los parámetros de la distribución\n",
        "n = 10  # Número de ensayos\n",
        "p = 0.5  # Probabilidad de éxito\n",
        "\n",
        "# Crear un rango de posibles valores de k\n",
        "k = np.arange(0, n+1)\n",
        "\n",
        "# Calcular la función de masa de probabilidad para cada valor de k\n",
        "probabilidades = binom.pmf(k, n, p)\n",
        "\n",
        "# Graficar la distribución binomial\n",
        "plt.figure(figsize=(10, 6))\n",
        "plt.bar(k, probabilidades, color='skyblue')\n",
        "plt.title('Distribución Binomial B(n=10, p=0.5)')\n",
        "plt.xlabel('Número de éxitos (k)')\n",
        "plt.ylabel('Probabilidad')\n",
        "plt.xticks(k)\n",
        "plt.grid(axis='y')\n",
        "plt.show()\n"
      ],
      "metadata": {
        "colab": {
          "base_uri": "https://localhost:8080/",
          "height": 565
        },
        "id": "3w-GKq6La4iH",
        "outputId": "f82540ea-68fd-4420-ba34-261aad543ec5"
      },
      "execution_count": 1,
      "outputs": [
        {
          "output_type": "display_data",
          "data": {
            "text/plain": [
              "<Figure size 1000x600 with 1 Axes>"
            ],
            "image/png": "[encoded data removed]"
          },
          "metadata": {}
        }
      ]
    },
    {
      "cell_type": "markdown",
      "source": [
        "**Explicación del Código**\\\n",
        "Librerías Importadas:\n",
        "\n",
        "numpy: Para manejar los cálculos numéricos.\\\n",
        "matplotlib.pyplot: Para graficar los resultados.\\\n",
        "scipy.stats.binom: Para trabajar con la distribución binomial.\\\n",
        "Parámetros:\n",
        "\n",
        "Se define ( n = 10 ) como el número de ensayos y ( p = 0.5 ) como la probabilidad de éxito por ensayo.\\\n",
        "Cálculo de Probabilidades:\n",
        "\n",
        "binom.pmf(k, n, p) calcula la función de masa de probabilidad para cada k, es decir, la probabilidad de obtener exactamente k éxitos en n ensayos.\\\n",
        "Visualización:\n",
        "\n",
        "plt.bar() se utiliza para crear un gráfico de barras que muestra las probabilidades de cada posible número de éxitos."
      ],
      "metadata": {
        "id": "WbaXJDwcbCR2"
      }
    },
    {
      "cell_type": "code",
      "source": [
        "# Importamos la biblioteca math para utilizar la función factorial\n",
        "import math\n",
        "\n",
        "# Función para calcular el número combinatorio (coeficiente binomial)\n",
        "def combinatorio(n, k):\n",
        "    return math.factorial(n) // (math.factorial(k) * math.factorial(n - k))\n",
        "\n",
        "# Parámetros de la distribución binomial\n",
        "n = 10  # Número de ensayos\n",
        "p = 0.3  # Probabilidad de éxito\n",
        "k = 4    # Número de éxitos deseados\n",
        "\n",
        "# Calculamos el número combinatorio para n y k\n",
        "num_combinatorio = combinatorio(n, k)\n",
        "print(f\"Número combinatorio C({n}, {k}) = {num_combinatorio}\")\n",
        "\n",
        "# Calculamos la probabilidad de obtener exactamente k éxitos en n ensayos\n",
        "probabilidad_k_exitos = num_combinatorio * (p**k) * ((1-p)**(n-k))\n",
        "print(f\"Probabilidad de obtener exactamente {k} éxitos en {n} ensayos: {probabilidad_k_exitos}\")\n",
        "\n",
        "# Explicación detallada:\n",
        "# 1. El número combinatorio C(n, k) se calcula para determinar cuántas maneras diferentes\n",
        "#    los éxitos k pueden ocurrir en n ensayos.\n",
        "# 2. Luego multiplicamos C(n, k) por las probabilidades de que esos éxitos ocurran\n",
        "#    (p^k) y los fracasos ocurran ((1-p)^(n-k)).\n",
        "\n",
        "# Reflexión sobre el resultado\n",
        "print(f\"\\nLa interpretación de este resultado es que en {n} ensayos con una probabilidad de éxito de {p},\")\n",
        "print(f\"la probabilidad de obtener exactamente {k} éxitos es {probabilidad_k_exitos:.4f},\")\n",
        "print(\"lo que es consistente con las propiedades de la distribución binomial.\")\n"
      ],
      "metadata": {
        "colab": {
          "base_uri": "https://localhost:8080/"
        },
        "id": "PvD8Lfx_bYt4",
        "outputId": "3fb9f659-d580-456f-ba6b-f06006fda5ce"
      },
      "execution_count": 2,
      "outputs": [
        {
          "output_type": "stream",
          "name": "stdout",
          "text": [
            "Número combinatorio C(10, 4) = 210\n",
            "Probabilidad de obtener exactamente 4 éxitos en 10 ensayos: 0.2001209489999999\n",
            "\n",
            "La interpretación de este resultado es que en 10 ensayos con una probabilidad de éxito de 0.3,\n",
            "la probabilidad de obtener exactamente 4 éxitos es 0.2001,\n",
            "lo que es consistente con las propiedades de la distribución binomial.\n"
          ]
        }
      ]
    }
  ]
}